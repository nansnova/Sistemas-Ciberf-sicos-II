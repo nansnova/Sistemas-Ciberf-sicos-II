{
 "cells": [
  {
   "cell_type": "markdown",
   "metadata": {},
   "source": [
    "# RED NEURONAL PARA LA DETECCIÓN DE DADOS DAÑADOS\n",
    "\n",
    "A01750202 | Abril Berenice Bautista Román<br>"
   ]
  },
  {
   "cell_type": "markdown",
   "metadata": {},
   "source": [
    "#### LIBRERÍAS"
   ]
  },
  {
   "cell_type": "code",
   "execution_count": 3,
   "metadata": {},
   "outputs": [],
   "source": [
    "import numpy as np\n",
    "import seaborn as sns\n",
    "import pandas as pd\n",
    "import math"
   ]
  },
  {
   "cell_type": "code",
   "execution_count": 11,
   "metadata": {},
   "outputs": [],
   "source": [
    "import tensorflow as tf\n",
    "\n",
    "from tensorflow.keras import layers\n",
    "from tensorflow.keras.preprocessing.image import ImageDataGenerator\n",
    "from tensorflow.keras.applications.mobilenet import preprocess_input\n",
    "from tensorflow.keras.optimizers import  Adam, SGD, Adamax, Adadelta, RMSprop\n",
    "from tensorflow.keras.utils import plot_model\n",
    "from tensorflow.keras.models import Sequential\n",
    "from tensorflow.keras.layers import Dense, Input, Activation, Flatten\n",
    "from tensorflow.keras.layers import Convolution2D, MaxPooling2D\n",
    "from keras.preprocessing import image\n",
    "import matplotlib.pyplot as plt"
   ]
  },
  {
   "cell_type": "markdown",
   "metadata": {},
   "source": [
    "### MUESTRAS DE ENTRENAMIENTO, PRUEBAS Y VALIDACIÓN"
   ]
  },
  {
   "cell_type": "code",
   "execution_count": 36,
   "metadata": {},
   "outputs": [],
   "source": [
    "img_entrenamiento = 'entrenamiento'\n",
    "img_prueba = 'prueba'\n",
    "img_validacion_bueno = 'validacion_bueno'\n",
    "img_validacion_malo = 'validacion_malo'"
   ]
  },
  {
   "cell_type": "markdown",
   "metadata": {},
   "source": [
    "#### Eliminación de las imagenes no compatibles (JFIF, GIF)"
   ]
  },
  {
   "cell_type": "code",
   "execution_count": 38,
   "metadata": {},
   "outputs": [
    {
     "name": "stdout",
     "output_type": "stream",
     "text": [
      "Deleted 0 images\n"
     ]
    }
   ],
   "source": [
    "import os\n",
    "\n",
    "num_skipped = 0\n",
    "for folder_name in (\"bueno\", \"malo\"):\n",
    "    folder_path = os.path.join(\"entrenamiento\", folder_name)\n",
    "    for fname in os.listdir(folder_path):\n",
    "        fpath = os.path.join(folder_path, fname)\n",
    "        try:\n",
    "            fobj = open(fpath, \"rb\")\n",
    "            is_jfif = tf.compat.as_bytes(\"JFIF\") in fobj.peek(10)\n",
    "        finally:\n",
    "            fobj.close()\n",
    "\n",
    "        if not is_jfif:\n",
    "            num_skipped += 1\n",
    "            # Delete corrupted image\n",
    "            os.remove(fpath)\n",
    "\n",
    "print(\"Deleted %d images\" % num_skipped)"
   ]
  },
  {
   "cell_type": "markdown",
   "metadata": {},
   "source": [
    "#### METADATOS DE ENTRENAMIENTO"
   ]
  },
  {
   "cell_type": "code",
   "execution_count": 39,
   "metadata": {},
   "outputs": [],
   "source": [
    "ancho, altura = 80, 80\n",
    "kernel1 = 32\n",
    "kernel2 = 64\n",
    "filtro_conv1 = (3,3)\n",
    "filtro_conv2 = (2,2)\n",
    "filtro_pooling = (2,2)\n",
    "epocas = 50 #epochs\n",
    "tamano_lote = 32 #batch (se acostumbra hacer en potencias de 2)\n",
    "clases = 2\n",
    "alfa = 0.0004 #learning rate"
   ]
  },
  {
   "cell_type": "markdown",
   "metadata": {},
   "source": [
    "#### GENERACIÓN DE DATOS DE ENTRENAMIENTO, PRUEBA Y VALDIACIÓN"
   ]
  },
  {
   "cell_type": "code",
   "execution_count": 40,
   "metadata": {},
   "outputs": [
    {
     "name": "stdout",
     "output_type": "stream",
     "text": [
      "Found 1600 images belonging to 2 classes.\n",
      "{'bueno': 0, 'malo': 1}\n",
      "Found 248 images belonging to 2 classes.\n",
      "{'bueno': 0, 'malo': 1}\n"
     ]
    }
   ],
   "source": [
    "generacion_entrenamiento = ImageDataGenerator(rescale=1./255,\n",
    "                                              shear_range=0.3,\n",
    "                                              zoom_range=0.3,\n",
    "                                              horizontal_flip=True)\n",
    "generacion_prueba = ImageDataGenerator(rescale=1./255)\n",
    "\n",
    "#generamos una base de datos de clasificación para entrenamiento\n",
    "datos_entrenamiento = generacion_entrenamiento.flow_from_directory(img_entrenamiento,\n",
    "                                                                   target_size=(altura, ancho),\n",
    "                                                                   batch_size=tamano_lote,\n",
    "                                                                   class_mode='categorical')\n",
    "print(datos_entrenamiento.class_indices)\n",
    "\n",
    "#generamos una base de datos de clasificación para prueba\n",
    "datos_prueba = generacion_prueba.flow_from_directory(img_prueba,\n",
    "                                                     target_size=(altura, ancho),\n",
    "                                                     batch_size=tamano_lote,\n",
    "                                                     class_mode='categorical')\n",
    "print(datos_prueba.class_indices)"
   ]
  },
  {
   "cell_type": "code",
   "execution_count": 41,
   "metadata": {},
   "outputs": [
    {
     "name": "stdout",
     "output_type": "stream",
     "text": [
      "Found 10 images belonging to 1 classes.\n",
      "{'bueno': 0}\n",
      "Found 5 images belonging to 1 classes.\n",
      "{'malo': 0}\n"
     ]
    }
   ],
   "source": [
    "generacion_validacion = ImageDataGenerator(preprocessing_function=preprocess_input)\n",
    "\n",
    "#generamos una base de datos de prueba para gatos\n",
    "datos_validacion_bueno = generacion_validacion.flow_from_directory(directory='validacion_bueno',\n",
    "                                                                 target_size=(altura,ancho),\n",
    "                                                                 color_mode='rgb',\n",
    "                                                                 batch_size=1,\n",
    "                                                                  class_mode=None)\n",
    "\n",
    "print(datos_validacion_bueno.class_indices)\n",
    "\n",
    "#generamos una base de datos de prueba para perros\n",
    "datos_validacion_malo = generacion_validacion.flow_from_directory(img_validacion_malo,\n",
    "                                                                   target_size=(altura,ancho),\n",
    "                                                                   color_mode='rgb',\n",
    "                                                                   batch_size=1,\n",
    "                                                                  class_mode=None)\n",
    "print(datos_validacion_malo.class_indices)"
   ]
  },
  {
   "cell_type": "markdown",
   "metadata": {},
   "source": [
    "### DISEÑO DE LA MORFOLOGÍA DE LA RED NEURONAL"
   ]
  },
  {
   "cell_type": "code",
   "execution_count": 42,
   "metadata": {},
   "outputs": [],
   "source": [
    "modeloCNN = Sequential()\n",
    "\n",
    "#Inicia Parte Convolucional\n",
    "modeloCNN.add(Convolution2D(kernel1,\n",
    "                            filtro_conv1,\n",
    "                            padding=\"same\",\n",
    "                            input_shape=(altura,ancho,3),\n",
    "                            activation='relu'))\n",
    "modeloCNN.add(MaxPooling2D(pool_size=filtro_pooling)) #maximo de 2x2\n",
    "\n",
    "modeloCNN.add(Convolution2D(kernel2,\n",
    "                            filtro_conv2,\n",
    "                            padding=\"same\"))\n",
    "modeloCNN.add(MaxPooling2D(pool_size=filtro_pooling))\n",
    "\n",
    "modeloCNN.add(Flatten())\n",
    "#Termina la parte convoucional\n",
    "\n",
    "#empieza ANN \n",
    "modeloCNN.add(Dense(256,activation='relu'))\n",
    "modeloCNN.add(Dense(clases,activation='softmax'))\n",
    "modeloCNN.compile(loss='categorical_crossentropy', optimizer=Adamax(learning_rate=alfa), metrics=['accuracy'])"
   ]
  },
  {
   "cell_type": "code",
   "execution_count": 43,
   "metadata": {},
   "outputs": [
    {
     "name": "stdout",
     "output_type": "stream",
     "text": [
      "Epoch 1/50\n",
      "50/50 [==============================] - 10s 199ms/step - loss: 0.8438 - accuracy: 0.5763 - val_loss: 0.7885 - val_accuracy: 0.3871\n",
      "Epoch 2/50\n",
      "50/50 [==============================] - 10s 202ms/step - loss: 0.5953 - accuracy: 0.7056 - val_loss: 0.7542 - val_accuracy: 0.4315\n",
      "Epoch 3/50\n",
      "50/50 [==============================] - 10s 196ms/step - loss: 0.5541 - accuracy: 0.7337 - val_loss: 0.7435 - val_accuracy: 0.5040\n",
      "Epoch 4/50\n",
      "50/50 [==============================] - 9s 187ms/step - loss: 0.5075 - accuracy: 0.7862 - val_loss: 0.7929 - val_accuracy: 0.4839\n",
      "Epoch 5/50\n",
      "50/50 [==============================] - 10s 192ms/step - loss: 0.5012 - accuracy: 0.7650 - val_loss: 0.8322 - val_accuracy: 0.4435\n",
      "Epoch 6/50\n",
      "50/50 [==============================] - 10s 198ms/step - loss: 0.4735 - accuracy: 0.7975 - val_loss: 0.8299 - val_accuracy: 0.4960\n",
      "Epoch 7/50\n",
      "50/50 [==============================] - 10s 198ms/step - loss: 0.4682 - accuracy: 0.7856 - val_loss: 0.8822 - val_accuracy: 0.4919\n",
      "Epoch 8/50\n",
      "50/50 [==============================] - 11s 217ms/step - loss: 0.4208 - accuracy: 0.8206 - val_loss: 0.9792 - val_accuracy: 0.5565\n",
      "Epoch 9/50\n",
      "50/50 [==============================] - 9s 189ms/step - loss: 0.4059 - accuracy: 0.8219 - val_loss: 0.9701 - val_accuracy: 0.5484\n",
      "Epoch 10/50\n",
      "50/50 [==============================] - 9s 181ms/step - loss: 0.3884 - accuracy: 0.8388 - val_loss: 1.0893 - val_accuracy: 0.5565\n",
      "Epoch 11/50\n",
      "50/50 [==============================] - 9s 181ms/step - loss: 0.3974 - accuracy: 0.8306 - val_loss: 0.9633 - val_accuracy: 0.5444\n",
      "Epoch 12/50\n",
      "50/50 [==============================] - 9s 183ms/step - loss: 0.3398 - accuracy: 0.8775 - val_loss: 1.0627 - val_accuracy: 0.5484\n",
      "Epoch 13/50\n",
      "50/50 [==============================] - 9s 188ms/step - loss: 0.3576 - accuracy: 0.8637 - val_loss: 1.0018 - val_accuracy: 0.5444\n",
      "Epoch 14/50\n",
      "50/50 [==============================] - 10s 207ms/step - loss: 0.3540 - accuracy: 0.8581 - val_loss: 0.9486 - val_accuracy: 0.5202\n",
      "Epoch 15/50\n",
      "50/50 [==============================] - 9s 185ms/step - loss: 0.3321 - accuracy: 0.8675 - val_loss: 1.0003 - val_accuracy: 0.5524\n",
      "Epoch 16/50\n",
      "50/50 [==============================] - 9s 178ms/step - loss: 0.3144 - accuracy: 0.8875 - val_loss: 1.1792 - val_accuracy: 0.5726\n",
      "Epoch 17/50\n",
      "50/50 [==============================] - 9s 180ms/step - loss: 0.3283 - accuracy: 0.8725 - val_loss: 0.9665 - val_accuracy: 0.5565\n",
      "Epoch 18/50\n",
      "50/50 [==============================] - 9s 180ms/step - loss: 0.3001 - accuracy: 0.8925 - val_loss: 0.8961 - val_accuracy: 0.5524\n",
      "Epoch 19/50\n",
      "50/50 [==============================] - 10s 200ms/step - loss: 0.2794 - accuracy: 0.8919 - val_loss: 1.0037 - val_accuracy: 0.5565\n",
      "Epoch 20/50\n",
      "50/50 [==============================] - 9s 183ms/step - loss: 0.2893 - accuracy: 0.8900 - val_loss: 0.9890 - val_accuracy: 0.5605\n",
      "Epoch 21/50\n",
      "50/50 [==============================] - 9s 187ms/step - loss: 0.2686 - accuracy: 0.9019 - val_loss: 0.9486 - val_accuracy: 0.5927\n",
      "Epoch 22/50\n",
      "50/50 [==============================] - 9s 181ms/step - loss: 0.2771 - accuracy: 0.8875 - val_loss: 0.8432 - val_accuracy: 0.6048\n",
      "Epoch 23/50\n",
      "50/50 [==============================] - 9s 186ms/step - loss: 0.2483 - accuracy: 0.9106 - val_loss: 0.8836 - val_accuracy: 0.6008\n",
      "Epoch 24/50\n",
      "50/50 [==============================] - 9s 186ms/step - loss: 0.2410 - accuracy: 0.9106 - val_loss: 0.8264 - val_accuracy: 0.6210\n",
      "Epoch 25/50\n",
      "50/50 [==============================] - 9s 184ms/step - loss: 0.2323 - accuracy: 0.9181 - val_loss: 0.9033 - val_accuracy: 0.5887\n",
      "Epoch 26/50\n",
      "50/50 [==============================] - 9s 190ms/step - loss: 0.2294 - accuracy: 0.9181 - val_loss: 0.9083 - val_accuracy: 0.5766\n",
      "Epoch 27/50\n",
      "50/50 [==============================] - 10s 204ms/step - loss: 0.2189 - accuracy: 0.9162 - val_loss: 1.0097 - val_accuracy: 0.6089\n",
      "Epoch 28/50\n",
      "50/50 [==============================] - 10s 197ms/step - loss: 0.2074 - accuracy: 0.9281 - val_loss: 0.8947 - val_accuracy: 0.6089\n",
      "Epoch 29/50\n",
      "50/50 [==============================] - 9s 188ms/step - loss: 0.1926 - accuracy: 0.9319 - val_loss: 0.9728 - val_accuracy: 0.5968\n",
      "Epoch 30/50\n",
      "50/50 [==============================] - 9s 190ms/step - loss: 0.2052 - accuracy: 0.9237 - val_loss: 0.9258 - val_accuracy: 0.6129\n",
      "Epoch 31/50\n",
      "50/50 [==============================] - 9s 184ms/step - loss: 0.1901 - accuracy: 0.9294 - val_loss: 0.9706 - val_accuracy: 0.6008\n",
      "Epoch 32/50\n",
      "50/50 [==============================] - 9s 188ms/step - loss: 0.1721 - accuracy: 0.9444 - val_loss: 0.7838 - val_accuracy: 0.6371\n",
      "Epoch 33/50\n",
      "50/50 [==============================] - 10s 192ms/step - loss: 0.1719 - accuracy: 0.9375 - val_loss: 0.7542 - val_accuracy: 0.6573\n",
      "Epoch 34/50\n",
      "50/50 [==============================] - 9s 186ms/step - loss: 0.1693 - accuracy: 0.9388 - val_loss: 0.7957 - val_accuracy: 0.6331\n",
      "Epoch 35/50\n",
      "50/50 [==============================] - 9s 189ms/step - loss: 0.1550 - accuracy: 0.9475 - val_loss: 0.6643 - val_accuracy: 0.6976\n",
      "Epoch 36/50\n",
      "50/50 [==============================] - 10s 203ms/step - loss: 0.1546 - accuracy: 0.9450 - val_loss: 0.7276 - val_accuracy: 0.6734\n",
      "Epoch 37/50\n",
      "50/50 [==============================] - 10s 192ms/step - loss: 0.1424 - accuracy: 0.9531 - val_loss: 0.7975 - val_accuracy: 0.6613\n",
      "Epoch 38/50\n",
      "50/50 [==============================] - 10s 192ms/step - loss: 0.1271 - accuracy: 0.9606 - val_loss: 0.7152 - val_accuracy: 0.6694\n",
      "Epoch 39/50\n",
      "50/50 [==============================] - 10s 194ms/step - loss: 0.1321 - accuracy: 0.9569 - val_loss: 0.6617 - val_accuracy: 0.7218\n",
      "Epoch 40/50\n",
      "50/50 [==============================] - 10s 194ms/step - loss: 0.1302 - accuracy: 0.9519 - val_loss: 0.6088 - val_accuracy: 0.7258\n",
      "Epoch 41/50\n",
      "50/50 [==============================] - 10s 196ms/step - loss: 0.1207 - accuracy: 0.9606 - val_loss: 0.6214 - val_accuracy: 0.7177\n",
      "Epoch 42/50\n",
      "50/50 [==============================] - 10s 194ms/step - loss: 0.1121 - accuracy: 0.9619 - val_loss: 0.5975 - val_accuracy: 0.7258\n",
      "Epoch 43/50\n",
      "50/50 [==============================] - 10s 193ms/step - loss: 0.1076 - accuracy: 0.9656 - val_loss: 0.5709 - val_accuracy: 0.7379\n",
      "Epoch 44/50\n",
      "50/50 [==============================] - 10s 191ms/step - loss: 0.0952 - accuracy: 0.9725 - val_loss: 0.6375 - val_accuracy: 0.7258\n",
      "Epoch 45/50\n",
      "50/50 [==============================] - 10s 197ms/step - loss: 0.0972 - accuracy: 0.9638 - val_loss: 0.6163 - val_accuracy: 0.7460\n",
      "Epoch 46/50\n",
      "50/50 [==============================] - 10s 198ms/step - loss: 0.0977 - accuracy: 0.9700 - val_loss: 0.5704 - val_accuracy: 0.7460\n",
      "Epoch 47/50\n",
      "50/50 [==============================] - 10s 194ms/step - loss: 0.0785 - accuracy: 0.9800 - val_loss: 0.6205 - val_accuracy: 0.7460\n",
      "Epoch 48/50\n",
      "50/50 [==============================] - 10s 193ms/step - loss: 0.0822 - accuracy: 0.9719 - val_loss: 0.6463 - val_accuracy: 0.7379\n",
      "Epoch 49/50\n",
      "50/50 [==============================] - 10s 195ms/step - loss: 0.0731 - accuracy: 0.9794 - val_loss: 0.5899 - val_accuracy: 0.7500\n",
      "Epoch 50/50\n",
      "50/50 [==============================] - 10s 192ms/step - loss: 0.0780 - accuracy: 0.9731 - val_loss: 0.5625 - val_accuracy: 0.7823\n"
     ]
    }
   ],
   "source": [
    "historical = modeloCNN.fit(datos_entrenamiento,epochs=epocas, batch_size=tamano_lote,validation_data=datos_prueba)"
   ]
  },
  {
   "cell_type": "markdown",
   "metadata": {},
   "source": [
    "#### PREDICCIÓN DEL MODELO CON EL SET DE VALIDACIÓN"
   ]
  },
  {
   "cell_type": "code",
   "execution_count": 44,
   "metadata": {},
   "outputs": [],
   "source": [
    "prediccion_bueno = modeloCNN.predict(datos_validacion_bueno)\n",
    "prediccion_malo = modeloCNN.predict(datos_validacion_malo)"
   ]
  },
  {
   "cell_type": "code",
   "execution_count": 45,
   "metadata": {},
   "outputs": [
    {
     "name": "stdout",
     "output_type": "stream",
     "text": [
      "Buenos: 0 - Malos: 1\n",
      "[0 0 0 1 0 0 0 1 0 1]\n"
     ]
    }
   ],
   "source": [
    "resultados_bueno = np.argmax(prediccion_bueno, axis = 1)\n",
    "print (\"Buenos: 0 - Malos: 1\")\n",
    "print(resultados_bueno)\n",
    "\n",
    "resultados_malo = np.argmax(prediccion_malo, axis = 1)\n",
    "#print(resultados_malo)\n",
    "\n",
    "prediccion_total = np.concatenate((resultados_bueno, resultados_malo))"
   ]
  },
  {
   "cell_type": "code",
   "execution_count": 46,
   "metadata": {},
   "outputs": [],
   "source": [
    "verdad_bueno = np.array([0]*10)\n",
    "verdad_malo = np.array([1]*5)\n",
    "verdad_total = np.concatenate((verdad_bueno, verdad_malo))"
   ]
  },
  {
   "cell_type": "markdown",
   "metadata": {},
   "source": [
    "### MATRIZ DE CONFUSIÓN DE LA RED"
   ]
  },
  {
   "cell_type": "code",
   "execution_count": 47,
   "metadata": {},
   "outputs": [
    {
     "name": "stdout",
     "output_type": "stream",
     "text": [
      "[[7 0]\n",
      " [3 5]]\n"
     ]
    }
   ],
   "source": [
    "from sklearn.metrics import confusion_matrix\n",
    "matriz_confusion = confusion_matrix(prediccion_total,verdad_total)\n",
    "print(matriz_confusion)"
   ]
  },
  {
   "cell_type": "markdown",
   "metadata": {},
   "source": [
    "### ANÁLISIS DEL FUNCIONAMIENTO DE LA RED NEURONAL"
   ]
  },
  {
   "cell_type": "code",
   "execution_count": 48,
   "metadata": {},
   "outputs": [
    {
     "data": {
      "image/png": "[encoded data removed]",
      "text/plain": [
       "<Figure size 432x288 with 1 Axes>"
      ]
     },
     "metadata": {
      "needs_background": "light"
     },
     "output_type": "display_data"
    }
   ],
   "source": [
    "plt.figure()\n",
    "N = np.arange(0, epocas)\n",
    "plt.plot(N, historical.history[\"loss\"], label=\"train_loss\")\n",
    "plt.plot(N, historical.history[\"val_loss\"], label=\"val_loss\")\n",
    "plt.plot(N, historical.history[\"accuracy\"], label=\"train_acc\")\n",
    "plt.plot(N, historical.history[\"val_accuracy\"], label=\"val_acc\")\n",
    "plt.title(\"Training Loss and Accuracy on Dataset\")\n",
    "plt.xlabel(\"Epoch #\")\n",
    "plt.ylabel(\"Loss/Accuracy\")\n",
    "plt.legend(loc=\"lower left\")\n",
    "plt.savefig(\"results.png\", dpi=300,bbox_inches='tight')\n",
    "plt.show()"
   ]
  },
  {
   "cell_type": "markdown",
   "metadata": {},
   "source": [
    "### EXPORTACIÓN DEL MODELO EN FORMATO H5"
   ]
  },
  {
   "cell_type": "code",
   "execution_count": 49,
   "metadata": {},
   "outputs": [],
   "source": [
    "modeloCNN.save('modeloCNNreto.h5')"
   ]
  },
  {
   "cell_type": "markdown",
   "metadata": {},
   "source": [
    "# PRUEBAS"
   ]
  },
  {
   "cell_type": "code",
   "execution_count": 7,
   "metadata": {},
   "outputs": [
    {
     "name": "stdout",
     "output_type": "stream",
     "text": [
      "Model: \"sequential_1\"\n",
      "_________________________________________________________________\n",
      " Layer (type)                Output Shape              Param #   \n",
      "=================================================================\n",
      " conv2d_2 (Conv2D)           (None, 80, 80, 32)        896       \n",
      "                                                                 \n",
      " max_pooling2d_2 (MaxPooling  (None, 40, 40, 32)       0         \n",
      " 2D)                                                             \n",
      "                                                                 \n",
      " conv2d_3 (Conv2D)           (None, 40, 40, 64)        8256      \n",
      "                                                                 \n",
      " max_pooling2d_3 (MaxPooling  (None, 20, 20, 64)       0         \n",
      " 2D)                                                             \n",
      "                                                                 \n",
      " flatten_1 (Flatten)         (None, 25600)             0         \n",
      "                                                                 \n",
      " dense_2 (Dense)             (None, 256)               6553856   \n",
      "                                                                 \n",
      " dense_3 (Dense)             (None, 2)                 514       \n",
      "                                                                 \n",
      "=================================================================\n",
      "Total params: 6,563,522\n",
      "Trainable params: 6,563,522\n",
      "Non-trainable params: 0\n",
      "_________________________________________________________________\n"
     ]
    }
   ],
   "source": [
    "import os\n",
    "import cv2\n",
    "import time\n",
    "import numpy as np\n",
    "from tensorflow.keras.models import load_model\n",
    "from tensorflow.keras.optimizers import  Adamax\n",
    "\n",
    "alfa = 0.0004 #learning rate\n",
    "\n",
    "modelo = load_model('modeloCNNreto.h5')\n",
    "modelo.summary()"
   ]
  },
  {
   "cell_type": "code",
   "execution_count": null,
   "metadata": {},
   "outputs": [],
   "source": [
    "modelo.compile(loss='categorical_crossentropy', optimizer=Adamax(learning_rate=alfa), metrics=['accuracy'])\n",
    "\n",
    "test_path = \"C:/Users/nancy/MATLAB Drive/computo_cognitivo/python-video-stream\" #FROM SOCKET\n",
    "while True:\n",
    "    #print(\"reading...\")\n",
    "    \n",
    "    file_name = \"frame.jpg\"\n",
    "    \n",
    "    image_path = test_path + \"/\" + file_name\n",
    "    image = cv2.imread(image_path)\n",
    "    \n",
    "    if image is None:\n",
    "        continue\n",
    "    \n",
    "    image = cv2.resize(image,(80,80))\n",
    "    image = np.reshape(image,[1,80,80,3])\n",
    "\n",
    "    classes = modelo.predict(image)\n",
    "    print(classes)\n",
    "    if np.argmax(classes) == 0:\n",
    "        print(\"DADO EN BUEN ESTADO\")\n",
    "    else:\n",
    "        print(\"¡¡ DADO EN MAL ESTADO !!\")\n",
    "        \n",
    "    os.remove(image_path)"
   ]
  },
  {
   "cell_type": "code",
   "execution_count": null,
   "metadata": {},
   "outputs": [],
   "source": []
  }
 ],
 "metadata": {
  "kernelspec": {
   "display_name": "Python 3 (ipykernel)",
   "language": "python",
   "name": "python3"
  },
  "language_info": {
   "codemirror_mode": {
    "name": "ipython",
    "version": 3
   },
   "file_extension": ".py",
   "mimetype": "text/x-python",
   "name": "python",
   "nbconvert_exporter": "python",
   "pygments_lexer": "ipython3",
   "version": "3.9.13"
  }
 },
 "nbformat": 4,
 "nbformat_minor": 4
}
